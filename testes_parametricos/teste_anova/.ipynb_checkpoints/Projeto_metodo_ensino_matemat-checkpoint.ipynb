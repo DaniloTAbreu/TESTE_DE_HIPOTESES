{
 "cells": [
  {
   "cell_type": "markdown",
   "metadata": {},
   "source": [
    "# <font color='blue'>Problema de Estatística: Diferentes métodos de ensino de matemática</font>"
   ]
  },
  {
   "cell_type": "markdown",
   "metadata": {},
   "source": [
    "# 1 - Definindo o problema de negócio"
   ]
  },
  {
   "cell_type": "markdown",
   "metadata": {},
   "source": [
    "### UImagine que você é um pesquisador interessado em investigar se diferentes métodos de ensino têm um impacto significativo no desempenho dos alunos em uma prova de matemática. Você tem três métodos diferentes de ensino (A, B e C) e deseja determinar se há diferenças estatisticamente significativas nas médias das notas dos alunos entre esses métodos."
   ]
  },
  {
   "cell_type": "markdown",
   "metadata": {},
   "source": [
    "# 2 - Decisões"
   ]
  },
  {
   "cell_type": "markdown",
   "metadata": {},
   "source": [
    "### O problema de negócio é estatístico. Para esse problema, podemos resolver utilizando ANOVA (Análise de Variância)\n"
   ]
  },
  {
   "cell_type": "markdown",
   "metadata": {},
   "source": [
    "# 3 - Versão python e import dos pacotes utilizados"
   ]
  },
  {
   "cell_type": "code",
   "execution_count": null,
   "metadata": {},
   "outputs": [],
   "source": [
    "# Versão da Linguagem Python\n",
    "from platform import python_version\n",
    "print('Versão da Linguagem Python Usada Neste Jupyter Notebook:', python_version())"
   ]
  },
  {
   "cell_type": "code",
   "execution_count": null,
   "metadata": {},
   "outputs": [],
   "source": [
    "# Para atualizar um pacote, execute o comando abaixo no terminal ou prompt de comando:\n",
    "# pip install -U nome_pacote\n",
    "\n",
    "# Para instalar a versão exata de um pacote, execute o comando abaixo no terminal ou prompt de comando:\n",
    "#!pip install nome_pacote==versão_desejada\n",
    "\n",
    "# Depois de instalar ou atualizar o pacote, reinicie o jupyter notebook.\n",
    "\n",
    "# Instala o pacote watermark. \n",
    "# Esse pacote é usado para gravar as versões de outros pacotes usados neste jupyter notebook.\n",
    "#!pip install -q -U watermark"
   ]
  },
  {
   "cell_type": "code",
   "execution_count": null,
   "metadata": {},
   "outputs": [],
   "source": [
    "#!pip install keras==2.13.1\n",
    "#!pip install tensorflow==2.13.0\n",
    "#!pip install numpy==1.23.5"
   ]
  },
  {
   "cell_type": "code",
   "execution_count": 2,
   "metadata": {},
   "outputs": [],
   "source": [
    "# Imports\n",
    "import numpy as np\n",
    "import matplotlib.pyplot as plt\n",
    "from scipy import stats\n",
    "from scipy.stats import shapiro\n",
    "from scipy.stats import kstest, norm\n",
    "from scipy.stats import f_oneway\n",
    "from scipy.stats import levene\n",
    "import warnings\n",
    "warnings.filterwarnings(\"ignore\", category=FutureWarning)"
   ]
  },
  {
   "cell_type": "code",
   "execution_count": 3,
   "metadata": {},
   "outputs": [
    {
     "name": "stdout",
     "output_type": "stream",
     "text": [
      "Author: Danilo Temerloglou de Abreu\n",
      "\n",
      "matplotlib: 3.7.1\n",
      "numpy     : 1.23.5\n",
      "scipy     : 1.9.1\n",
      "\n"
     ]
    }
   ],
   "source": [
    "# Versões dos pacotes usados neste jupyter notebook\n",
    "%reload_ext watermark\n",
    "%watermark -a \"Danilo Temerloglou de Abreu\" --iversions"
   ]
  },
  {
   "cell_type": "markdown",
   "metadata": {},
   "source": [
    "# 4 - Criando os Conjuntos de dados"
   ]
  },
  {
   "cell_type": "code",
   "execution_count": 16,
   "metadata": {},
   "outputs": [],
   "source": [
    "# Dados de exemplo: notas dos alunos para cada método de ensino (A, B, C)\n",
    "notas_metodo_A1 = np.array([75, 82, 79, 88, 93])\n",
    "notas_metodo_B1 = np.array([68, 72, 65, 78, 82])\n",
    "notas_metodo_C1 = np.array([60, 65, 70, 75, 68])"
   ]
  },
  {
   "cell_type": "code",
   "execution_count": 27,
   "metadata": {},
   "outputs": [],
   "source": [
    "# Calculando médias e desvios padrão dos dados originais\n",
    "media_A1 = np.mean(notas_metodo_A1)\n",
    "media_B1 = np.mean(notas_metodo_B1)\n",
    "media_C1 = np.mean(notas_metodo_C1)\n",
    "\n",
    "std_A1 = np.std(notas_metodo_A1, ddof=1)  # Usando ddof=1 para calcular desvio padrão amostral\n",
    "std_B1 = np.std(notas_metodo_B1, ddof=1)\n",
    "std_C1 = np.std(notas_metodo_C1, ddof=1)\n",
    "\n",
    "# Gerando dados simulados com 5000 amostras para cada método de ensino\n",
    "np.random.seed(42)  # Para garantir reproducibilidade dos resultados\n",
    "simulacao_A1 = np.random.normal(media_A1, std_A1, 5000)\n",
    "simulacao_B1 = np.random.normal(media_B1, std_B1, 5000)\n",
    "simulacao_C1 = np.random.normal(media_C1, std_C1, 5000)"
   ]
  },
  {
   "cell_type": "markdown",
   "metadata": {},
   "source": [
    "# 5 - Verificando as suposições, para saber se aplicamos testes paramétricos ou não paramétricos\n",
    "# Para o teste ANOVA:"
   ]
  },
  {
   "cell_type": "markdown",
   "metadata": {},
   "source": [
    "## 5.1 Independência das Observações: "
   ]
  },
  {
   "cell_type": "markdown",
   "metadata": {},
   "source": [
    "### Como são dados gerados, vamos adotar que há independência das observações"
   ]
  },
  {
   "cell_type": "markdown",
   "metadata": {},
   "source": [
    "## 5.2 Homogeneidade das Variâncias"
   ]
  },
  {
   "cell_type": "code",
   "execution_count": 17,
   "metadata": {},
   "outputs": [
    {
     "name": "stdout",
     "output_type": "stream",
     "text": [
      "Teste de Levene para homogeneidade de variâncias - Estatística: 0.0000, Valor-p: 1.0000\n",
      "Estatística de teste Levene: 0.0000\n",
      "Valor-p: 1.0000\n",
      "Falhamos em rejeitar H0: as variâncias são iguais.\n"
     ]
    }
   ],
   "source": [
    "# Exemplo de verificação de homogeneidade de variâncias entre dois grupos (notas_metodo_A e notas_metodo_B)\n",
    "stat_levene, p_value_levene = levene(notas_metodo_A1, notas_metodo_B1)\n",
    "print(f'Teste de Levene para homogeneidade de variâncias - Estatística: {stat_levene:.4f}, Valor-p: {p_value_levene:.4f}')\n",
    "\n",
    "# Conclusão do teste\n",
    "alpha = 0.05\n",
    "print(f'Estatística de teste Levene: {stat_levene:.4f}')\n",
    "print(f'Valor-p: {p_value_levene:.4f}')\n",
    "\n",
    "if p_value_levene > alpha:\n",
    "    print('Falhamos em rejeitar H0: as variâncias são iguais.')\n",
    "else:\n",
    "    print('Rejeitamos H0: as variâncias são diferentes.')"
   ]
  },
  {
   "cell_type": "code",
   "execution_count": 18,
   "metadata": {},
   "outputs": [
    {
     "name": "stdout",
     "output_type": "stream",
     "text": [
      "Teste de Levene para homogeneidade de variâncias - Estatística: 0.3403, Valor-p: 0.5757\n",
      "Estatística de teste Levene: 0.3403\n",
      "Valor-p: 0.5757\n",
      "Falhamos em rejeitar H0: as variâncias são iguais.\n"
     ]
    }
   ],
   "source": [
    "# Exemplo de verificação de homogeneidade de variâncias entre dois grupos (notas_metodo_A e notas_metodo_B)\n",
    "stat_levene, p_value_levene = levene(notas_metodo_A1, notas_metodo_C1)\n",
    "print(f'Teste de Levene para homogeneidade de variâncias - Estatística: {stat_levene:.4f}, Valor-p: {p_value_levene:.4f}')\n",
    "\n",
    "# Conclusão do teste\n",
    "alpha = 0.05\n",
    "print(f'Estatística de teste Levene: {stat_levene:.4f}')\n",
    "print(f'Valor-p: {p_value_levene:.4f}')\n",
    "\n",
    "if p_value_levene > alpha:\n",
    "    print('Falhamos em rejeitar H0: as variâncias são iguais.')\n",
    "else:\n",
    "    print('Rejeitamos H0: as variâncias são diferentes.')"
   ]
  },
  {
   "cell_type": "code",
   "execution_count": 19,
   "metadata": {},
   "outputs": [
    {
     "name": "stdout",
     "output_type": "stream",
     "text": [
      "Teste de Levene para homogeneidade de variâncias - Estatística: 0.3874, Valor-p: 0.5510\n",
      "Estatística de teste Levene: 0.3874\n",
      "Valor-p: 0.5510\n",
      "Falhamos em rejeitar H0: as variâncias são iguais.\n"
     ]
    }
   ],
   "source": [
    "# Exemplo de verificação de homogeneidade de variâncias entre dois grupos (notas_metodo_A e notas_metodo_B)\n",
    "stat_levene, p_value_levene = levene(notas_metodo_B1, notas_metodo_C1)\n",
    "print(f'Teste de Levene para homogeneidade de variâncias - Estatística: {stat_levene:.4f}, Valor-p: {p_value_levene:.4f}')\n",
    "\n",
    "# Conclusão do teste\n",
    "alpha = 0.05\n",
    "print(f'Estatística de teste Levene: {stat_levene:.4f}')\n",
    "print(f'Valor-p: {p_value_levene:.4f}')\n",
    "\n",
    "if p_value_levene > alpha:\n",
    "    print('Falhamos em rejeitar H0: as variâncias são iguais.')\n",
    "else:\n",
    "    print('Rejeitamos H0: as variâncias são diferentes.')"
   ]
  },
  {
   "cell_type": "markdown",
   "metadata": {},
   "source": [
    "### Podemos assumir que as variâncias são homogêneas."
   ]
  },
  {
   "cell_type": "markdown",
   "metadata": {},
   "source": [
    "## 5.3 Normalidade dos dados"
   ]
  },
  {
   "cell_type": "markdown",
   "metadata": {},
   "source": [
    "### Utilizamos o teste de Shapiro-Wilk para avaliar a normalidade dos dados"
   ]
  },
  {
   "cell_type": "code",
   "execution_count": 20,
   "metadata": {},
   "outputs": [
    {
     "name": "stdout",
     "output_type": "stream",
     "text": [
      "Teste de Shapiro-Wilk para notas método A - Estatística: 0.9738, Valor-p: 0.8989\n",
      "Os dados parecem ser normais (falha em rejeitar H0)\n"
     ]
    }
   ],
   "source": [
    "# Exemplo de verificação de normalidade para um grupo (notas_metodo_A)\n",
    "stat_shapiro_A, p_value_shapiro_A = shapiro(notas_metodo_A)\n",
    "print(f'Teste de Shapiro-Wilk para notas método A - Estatística: {stat_shapiro_A:.4f}, Valor-p: {p_value_shapiro_A:.4f}')\n",
    "\n",
    "if p_value_shapiro_A > alpha:\n",
    "    print('Os dados parecem ser normais (falha em rejeitar H0)')\n",
    "else:\n",
    "    print('Os dados não parecem ser normais (rejeição de H0)')"
   ]
  },
  {
   "cell_type": "code",
   "execution_count": 21,
   "metadata": {},
   "outputs": [
    {
     "name": "stdout",
     "output_type": "stream",
     "text": [
      "Teste de Shapiro-Wilk para notas método B - Estatística: 0.9593, Valor-p: 0.8034\n",
      "Os dados parecem ser normais (falha em rejeitar H0)\n"
     ]
    }
   ],
   "source": [
    "# Exemplo de verificação de normalidade para um grupo (notas_metodo_B)\n",
    "stat_shapiro_B, p_value_shapiro_B = shapiro(notas_metodo_B)\n",
    "print(f'Teste de Shapiro-Wilk para notas método B - Estatística: {stat_shapiro_B:.4f}, Valor-p: {p_value_shapiro_B:.4f}')\n",
    "\n",
    "if p_value_shapiro_B > alpha:\n",
    "    print('Os dados parecem ser normais (falha em rejeitar H0)')\n",
    "else:\n",
    "    print('Os dados não parecem ser normais (rejeição de H0)')"
   ]
  },
  {
   "cell_type": "code",
   "execution_count": 22,
   "metadata": {},
   "outputs": [
    {
     "name": "stdout",
     "output_type": "stream",
     "text": [
      "Teste de Shapiro-Wilk para notas método C - Estatística: 0.9977, Valor-p: 0.9985\n",
      "Os dados parecem ser normais (falha em rejeitar H0)\n"
     ]
    }
   ],
   "source": [
    "# Exemplo de verificação de normalidade para um grupo (notas_metodo_C)\n",
    "stat_shapiro_C, p_value_shapiro_C = shapiro(notas_metodo_C)\n",
    "print(f'Teste de Shapiro-Wilk para notas método C - Estatística: {stat_shapiro_C:.4f}, Valor-p: {p_value_shapiro_C:.4f}')\n",
    "\n",
    "if p_value_shapiro_C > alpha:\n",
    "    print('Os dados parecem ser normais (falha em rejeitar H0)')\n",
    "else:\n",
    "    print('Os dados não parecem ser normais (rejeição de H0)')"
   ]
  },
  {
   "cell_type": "markdown",
   "metadata": {},
   "source": [
    "### Podemos assumir a normalidade dos dados."
   ]
  },
  {
   "cell_type": "markdown",
   "metadata": {},
   "source": [
    "## 5.4 Observações Independentes e Identicamente Distribuídas (IID)"
   ]
  },
  {
   "cell_type": "code",
   "execution_count": 23,
   "metadata": {},
   "outputs": [],
   "source": [
    "###Distribuição dos Dados: Verifique se as características estatísticas básicas (como média, variância e forma da distribuição) são consistentes entre os grupos.\n",
    "\n",
    "###Testes Estatísticos: Realize testes de normalidade e homogeneidade de variâncias para verificar se os pressupostos subjacentes à distribuição das observações são atendidos em todos os grupos."
   ]
  },
  {
   "cell_type": "markdown",
   "metadata": {},
   "source": [
    "### Para atender este item, devem ser satisfeitas as suposições Homogeneidade das Variâncias e Normalidade dos dados"
   ]
  },
  {
   "cell_type": "markdown",
   "metadata": {},
   "source": [
    "### Podemos assumir que as observações são independentes e identicamente distribuídas."
   ]
  },
  {
   "cell_type": "markdown",
   "metadata": {},
   "source": [
    "### Conclusão: As 2 amostragens atendem as suposições para utilizarmos o teste ANOVA para nosso teste de hipóteses."
   ]
  },
  {
   "cell_type": "markdown",
   "metadata": {},
   "source": [
    "# 6 - Teste de hipóteses"
   ]
  },
  {
   "cell_type": "markdown",
   "metadata": {},
   "source": [
    "## 6.1 Amostragem 1"
   ]
  },
  {
   "cell_type": "code",
   "execution_count": 24,
   "metadata": {},
   "outputs": [
    {
     "name": "stdout",
     "output_type": "stream",
     "text": [
      "Estatística F: 7.3511\n",
      "Valor-p: 0.0082\n",
      "Rejeitamos H0: há diferença significativa nas médias das notas entre os métodos de ensino.\n"
     ]
    }
   ],
   "source": [
    "# Realizando o teste de ANOVA\n",
    "statistic, p_value = f_oneway(notas_metodo_A1, notas_metodo_B1, notas_metodo_C1)\n",
    "\n",
    "# Conclusão do teste\n",
    "alpha = 0.05\n",
    "print(f'Estatística F: {statistic:.4f}')\n",
    "print(f'Valor-p: {p_value:.4f}')\n",
    "\n",
    "if p_value < alpha:\n",
    "    print('Rejeitamos H0: há diferença significativa nas médias das notas entre os métodos de ensino.')\n",
    "else:\n",
    "    print('Falhamos em rejeitar H0: não há evidências suficientes para concluir diferença significativa nas médias.')"
   ]
  },
  {
   "cell_type": "code",
   "execution_count": 25,
   "metadata": {},
   "outputs": [
    {
     "data": {
      "image/png": "[encoded data removed]",
      "text/plain": [
       "<Figure size 640x480 with 1 Axes>"
      ]
     },
     "metadata": {},
     "output_type": "display_data"
    }
   ],
   "source": [
    "# Criando o boxplot\n",
    "plt.boxplot([notas_metodo_A1, notas_metodo_B1, notas_metodo_C1], labels=['Método A', 'Método B', 'Método C'])\n",
    "plt.title('Distribuição das Notas por Método de Ensino')\n",
    "plt.xlabel('Método de Ensino')\n",
    "plt.ylabel('Nota')\n",
    "plt.ylim(0, 100)  # Definindo o intervalo do eixo y de 0 a 100\n",
    "plt.grid(True)\n",
    "plt.show()"
   ]
  },
  {
   "cell_type": "markdown",
   "metadata": {},
   "source": [
    "## 6.2 Amostragem 2"
   ]
  },
  {
   "cell_type": "code",
   "execution_count": 28,
   "metadata": {},
   "outputs": [
    {
     "name": "stdout",
     "output_type": "stream",
     "text": [
      "Estatística F: 7324.2502\n",
      "Valor-p: 0.0000\n",
      "Rejeitamos H0: há diferença significativa nas médias das notas entre os métodos de ensino.\n"
     ]
    }
   ],
   "source": [
    "# Realizando o teste de ANOVA\n",
    "statistic, p_value = f_oneway(simulacao_A1, simulacao_B1, simulacao_C1)\n",
    "\n",
    "# Conclusão do teste\n",
    "alpha = 0.05\n",
    "print(f'Estatística F: {statistic:.4f}')\n",
    "print(f'Valor-p: {p_value:.4f}')\n",
    "\n",
    "if p_value < alpha:\n",
    "    print('Rejeitamos H0: há diferença significativa nas médias das notas entre os métodos de ensino.')\n",
    "else:\n",
    "    print('Falhamos em rejeitar H0: não há evidências suficientes para concluir diferença significativa nas médias.')"
   ]
  },
  {
   "cell_type": "code",
   "execution_count": 29,
   "metadata": {},
   "outputs": [
    {
     "data": {
      "image/png": "[encoded data removed]",
      "text/plain": [
       "<Figure size 640x480 with 1 Axes>"
      ]
     },
     "metadata": {},
     "output_type": "display_data"
    }
   ],
   "source": [
    "# Criando o boxplot\n",
    "plt.boxplot([simulacao_A1, simulacao_B1, simulacao_C1], labels=['Método A', 'Método B', 'Método C'])\n",
    "plt.title('Distribuição das Notas por Método de Ensino')\n",
    "plt.xlabel('Método de Ensino')\n",
    "plt.ylabel('Nota')\n",
    "plt.ylim(0, 100)  # Definindo o intervalo do eixo y de 0 a 100\n",
    "plt.grid(True)\n",
    "plt.show()"
   ]
  },
  {
   "cell_type": "markdown",
   "metadata": {},
   "source": [
    "### Conclusão: \n",
    "### Nas duas amostragens, rejeitamos a hipótese nula. \n",
    "### Há evidências estatísticas de qhá diferença significativa nas médias das notas entre os métodos de ensino."
   ]
  },
  {
   "cell_type": "markdown",
   "metadata": {},
   "source": [
    "# Fim"
   ]
  }
 ],
 "metadata": {
  "kernelspec": {
   "display_name": "Python 3 (ipykernel)",
   "language": "python",
   "name": "python3"
  },
  "language_info": {
   "codemirror_mode": {
    "name": "ipython",
    "version": 3
   },
   "file_extension": ".py",
   "mimetype": "text/x-python",
   "name": "python",
   "nbconvert_exporter": "python",
   "pygments_lexer": "ipython3",
   "version": "3.9.13"
  }
 },
 "nbformat": 4,
 "nbformat_minor": 1
}
