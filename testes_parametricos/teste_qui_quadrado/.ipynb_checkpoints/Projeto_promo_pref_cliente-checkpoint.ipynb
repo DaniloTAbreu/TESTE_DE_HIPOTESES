{
 "cells": [
  {
   "cell_type": "markdown",
   "metadata": {},
   "source": [
    "# <font color='blue'>Problema de Estatística: Média de açúcar em refrigerentes</font>"
   ]
  },
  {
   "cell_type": "markdown",
   "metadata": {},
   "source": [
    "# 1 - Definindo o problema de negócio"
   ]
  },
  {
   "cell_type": "markdown",
   "metadata": {},
   "source": [
    "### Uma rede de supermercados deseja verificar se há uma relação entre o tipo de promoção oferecida e a preferência do cliente por um determinado produto. Eles acreditam que o tipo de promoção (desconto percentual, compre 1 leve 2, ou preço fixo) pode influenciar a escolha do cliente.\n"
   ]
  },
  {
   "cell_type": "markdown",
   "metadata": {},
   "source": [
    "# 2 - Decisões"
   ]
  },
  {
   "cell_type": "markdown",
   "metadata": {},
   "source": [
    "### O problema de negócio é estatístico. Tratando-se de variáveis categóricas, podemos aplicar um teste qui quadrado para resolver este problema. "
   ]
  },
  {
   "cell_type": "markdown",
   "metadata": {},
   "source": [
    "# 3 - Versão python e import dos pacotes utilizados"
   ]
  },
  {
   "cell_type": "code",
   "execution_count": 1,
   "metadata": {},
   "outputs": [
    {
     "name": "stdout",
     "output_type": "stream",
     "text": [
      "Versão da Linguagem Python Usada Neste Jupyter Notebook: 3.12.4\n"
     ]
    }
   ],
   "source": [
    "# Versão da Linguagem Python\n",
    "from platform import python_version\n",
    "print('Versão da Linguagem Python Usada Neste Jupyter Notebook:', python_version())"
   ]
  },
  {
   "cell_type": "code",
   "execution_count": 2,
   "metadata": {},
   "outputs": [],
   "source": [
    "# Para atualizar um pacote, execute o comando abaixo no terminal ou prompt de comando:\n",
    "# pip install -U nome_pacote\n",
    "\n",
    "# Para instalar a versão exata de um pacote, execute o comando abaixo no terminal ou prompt de comando:\n",
    "#!pip install nome_pacote==versão_desejada\n",
    "\n",
    "# Depois de instalar ou atualizar o pacote, reinicie o jupyter notebook.\n",
    "\n",
    "# Instala o pacote watermark. \n",
    "# Esse pacote é usado para gravar as versões de outros pacotes usados neste jupyter notebook.\n",
    "#!pip install -q -U watermark"
   ]
  },
  {
   "cell_type": "code",
   "execution_count": 8,
   "metadata": {},
   "outputs": [],
   "source": [
    "# Imports\n",
    "import numpy as np\n",
    "import pandas as pd\n",
    "import matplotlib.pyplot as plt\n",
    "import seaborn as sns\n",
    "import warnings\n",
    "warnings.filterwarnings(\"ignore\", category=FutureWarning)"
   ]
  },
  {
   "cell_type": "code",
   "execution_count": 4,
   "metadata": {},
   "outputs": [
    {
     "name": "stdout",
     "output_type": "stream",
     "text": [
      "Author: Danilo Temerloglou de Abreu\n",
      "\n",
      "scipy     : 1.13.1\n",
      "pandas    : 2.2.2\n",
      "numpy     : 1.26.4\n",
      "matplotlib: 3.8.4\n",
      "\n"
     ]
    }
   ],
   "source": [
    "# Versões dos pacotes usados neste jupyter notebook\n",
    "%reload_ext watermark\n",
    "%watermark -a \"Danilo Temerloglou de Abreu\" --iversions"
   ]
  },
  {
   "cell_type": "markdown",
   "metadata": {},
   "source": [
    "# 4 - Criando os Conjuntos de dados"
   ]
  },
  {
   "cell_type": "code",
   "execution_count": 5,
   "metadata": {},
   "outputs": [
    {
     "data": {
      "text/html": [
       "<div>\n",
       "<style scoped>\n",
       "    .dataframe tbody tr th:only-of-type {\n",
       "        vertical-align: middle;\n",
       "    }\n",
       "\n",
       "    .dataframe tbody tr th {\n",
       "        vertical-align: top;\n",
       "    }\n",
       "\n",
       "    .dataframe thead th {\n",
       "        text-align: right;\n",
       "    }\n",
       "</style>\n",
       "<table border=\"1\" class=\"dataframe\">\n",
       "  <thead>\n",
       "    <tr style=\"text-align: right;\">\n",
       "      <th></th>\n",
       "      <th>Promocao</th>\n",
       "      <th>Preferencia</th>\n",
       "    </tr>\n",
       "  </thead>\n",
       "  <tbody>\n",
       "    <tr>\n",
       "      <th>0</th>\n",
       "      <td>Preço Fixo</td>\n",
       "      <td>Preferiu</td>\n",
       "    </tr>\n",
       "    <tr>\n",
       "      <th>1</th>\n",
       "      <td>Desconto Percentual</td>\n",
       "      <td>Não Preferiu</td>\n",
       "    </tr>\n",
       "    <tr>\n",
       "      <th>2</th>\n",
       "      <td>Preço Fixo</td>\n",
       "      <td>Preferiu</td>\n",
       "    </tr>\n",
       "    <tr>\n",
       "      <th>3</th>\n",
       "      <td>Preço Fixo</td>\n",
       "      <td>Preferiu</td>\n",
       "    </tr>\n",
       "    <tr>\n",
       "      <th>4</th>\n",
       "      <td>Desconto Percentual</td>\n",
       "      <td>Não Preferiu</td>\n",
       "    </tr>\n",
       "  </tbody>\n",
       "</table>\n",
       "</div>"
      ],
      "text/plain": [
       "              Promocao   Preferencia\n",
       "0           Preço Fixo      Preferiu\n",
       "1  Desconto Percentual  Não Preferiu\n",
       "2           Preço Fixo      Preferiu\n",
       "3           Preço Fixo      Preferiu\n",
       "4  Desconto Percentual  Não Preferiu"
      ]
     },
     "execution_count": 5,
     "metadata": {},
     "output_type": "execute_result"
    }
   ],
   "source": [
    "# Definindo os tipos de promoções e a resposta dos clientes\n",
    "np.random.seed(42)\n",
    "tipos_promocao = ['Desconto Percentual', 'Compre 1 Leve 2', 'Preço Fixo']\n",
    "preferencia = ['Preferiu', 'Não Preferiu']\n",
    "\n",
    "# Criando um DataFrame com 300 observações\n",
    "data = {\n",
    "    'Promocao': np.random.choice(tipos_promocao, 3000),\n",
    "    'Preferencia': np.random.choice(preferencia, 3000)\n",
    "}\n",
    "\n",
    "df = pd.DataFrame(data)\n",
    "\n",
    "# Exibindo os primeiros registros do DataFrame\n",
    "df.head()"
   ]
  },
  {
   "cell_type": "code",
   "execution_count": 11,
   "metadata": {},
   "outputs": [
    {
     "data": {
      "image/png": "[encoded data removed]",
      "text/plain": [
       "<Figure size 1000x600 with 1 Axes>"
      ]
     },
     "metadata": {},
     "output_type": "display_data"
    }
   ],
   "source": [
    "# Criando o gráfico de contagem para a distribuição das promoções\n",
    "plt.figure(figsize=(10, 6))\n",
    "sns.countplot(data=df, x='Promocao', color='darkblue')\n",
    "plt.title('Distribuição das Promoções')\n",
    "plt.xlabel('Tipo de Promoção')\n",
    "plt.ylabel('Contagem')\n",
    "plt.show()"
   ]
  },
  {
   "cell_type": "code",
   "execution_count": 12,
   "metadata": {},
   "outputs": [
    {
     "data": {
      "image/png": "[encoded data removed]",
      "text/plain": [
       "<Figure size 1000x600 with 1 Axes>"
      ]
     },
     "metadata": {},
     "output_type": "display_data"
    }
   ],
   "source": [
    "# Criando o gráfico de contagem para a distribuição das preferências\n",
    "plt.figure(figsize=(10, 6))\n",
    "sns.countplot(data=df, x='Preferencia', color='orange')\n",
    "plt.title('Distribuição das Preferências')\n",
    "plt.xlabel('Preferência')\n",
    "plt.ylabel('Contagem')\n",
    "plt.show()"
   ]
  },
  {
   "cell_type": "markdown",
   "metadata": {},
   "source": [
    "# 5 - Verificando as suposições, para saber se podemos aplicar o teste qui quadrado"
   ]
  },
  {
   "cell_type": "markdown",
   "metadata": {},
   "source": [
    "## 5.1 Observações devem ser independentes"
   ]
  },
  {
   "cell_type": "markdown",
   "metadata": {},
   "source": [
    "### Garantimos isso na criação dos dados aleatórios."
   ]
  },
  {
   "cell_type": "markdown",
   "metadata": {},
   "source": [
    "## 5.2 Tamanho da amostra suficiente - mínimo 30"
   ]
  },
  {
   "cell_type": "markdown",
   "metadata": {},
   "source": [
    "### Garantimos isso na criação dos dados aleatórios."
   ]
  },
  {
   "cell_type": "markdown",
   "metadata": {},
   "source": [
    "# 6 - Teste de hipóteses"
   ]
  },
  {
   "cell_type": "markdown",
   "metadata": {},
   "source": [
    "## 6.1 Análise dos resultados"
   ]
  },
  {
   "cell_type": "code",
   "execution_count": 6,
   "metadata": {},
   "outputs": [
    {
     "name": "stdout",
     "output_type": "stream",
     "text": [
      "Estatística Qui-Quadrado: 0.9037572894475587\n",
      "p-valor: 0.6364313993471447\n",
      "Graus de Liberdade: 2\n",
      "Frequências Esperadas: \n",
      "[[51.7  42.3 ]\n",
      " [54.45 44.55]\n",
      " [58.85 48.15]]\n"
     ]
    }
   ],
   "source": [
    "from scipy.stats import chi2_contingency\n",
    "\n",
    "# Criando a tabela de contingência\n",
    "contingencia = pd.crosstab(df['Promocao'], df['Preferencia'])\n",
    "\n",
    "# Calculando o teste do qui-quadrado\n",
    "chi2, p, dof, expected = chi2_contingency(contingencia)\n",
    "\n",
    "print(f\"Estatística Qui-Quadrado: {chi2}\")\n",
    "print(f\"p-valor: {p}\")\n",
    "print(f\"Graus de Liberdade: {dof}\")\n",
    "print(f\"Frequências Esperadas: \\n{expected}\")"
   ]
  },
  {
   "cell_type": "markdown",
   "metadata": {},
   "source": [
    "## 6.2 Interpretação dos resultados"
   ]
  },
  {
   "cell_type": "code",
   "execution_count": 7,
   "metadata": {},
   "outputs": [
    {
     "name": "stdout",
     "output_type": "stream",
     "text": [
      "Não rejeitamos a hipótese nula. Não há evidências suficientes para afirmar que existe uma relação entre o tipo de promoção e a preferência do cliente.\n"
     ]
    }
   ],
   "source": [
    "if p < 0.05:\n",
    "    print(\"Rejeitamos a hipótese nula. Há uma relação significativa entre o tipo de promoção e a preferência do cliente.\")\n",
    "else:\n",
    "    print(\"Não rejeitamos a hipótese nula. Não há evidências suficientes para afirmar que existe uma relação entre o tipo de promoção e a preferência do cliente.\")"
   ]
  },
  {
   "cell_type": "code",
   "execution_count": null,
   "metadata": {},
   "outputs": [],
   "source": []
  },
  {
   "cell_type": "markdown",
   "metadata": {},
   "source": [
    "### Conclusão: \n",
    "### Não rejeitamos a hipótese nula. \n",
    "### Não há evidências suficientes para afirmar que existe uma relação entre o tipo de promoção e a preferência do cliente."
   ]
  },
  {
   "cell_type": "markdown",
   "metadata": {},
   "source": [
    "# Fim"
   ]
  }
 ],
 "metadata": {
  "kernelspec": {
   "display_name": "Python 3 (ipykernel)",
   "language": "python",
   "name": "python3"
  },
  "language_info": {
   "codemirror_mode": {
    "name": "ipython",
    "version": 3
   },
   "file_extension": ".py",
   "mimetype": "text/x-python",
   "name": "python",
   "nbconvert_exporter": "python",
   "pygments_lexer": "ipython3",
   "version": "3.12.4"
  }
 },
 "nbformat": 4,
 "nbformat_minor": 4
}
